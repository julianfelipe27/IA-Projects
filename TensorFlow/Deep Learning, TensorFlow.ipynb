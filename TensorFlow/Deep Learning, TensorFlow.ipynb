{
 "cells": [
  {
   "cell_type": "code",
   "execution_count": 1,
   "metadata": {},
   "outputs": [
    {
     "ename": "ModuleNotFoundError",
     "evalue": "No module named 'tensorflow'",
     "output_type": "error",
     "traceback": [
      "\u001b[1;31m---------------------------------------------------------------------------\u001b[0m",
      "\u001b[1;31mModuleNotFoundError\u001b[0m                       Traceback (most recent call last)",
      "\u001b[1;32m<ipython-input-1-c1b4f032d8ca>\u001b[0m in \u001b[0;36m<module>\u001b[1;34m\u001b[0m\n\u001b[0;32m      2\u001b[0m \u001b[1;31m#Juan David Marin\u001b[0m\u001b[1;33m\u001b[0m\u001b[1;33m\u001b[0m\u001b[1;33m\u001b[0m\u001b[0m\n\u001b[0;32m      3\u001b[0m \u001b[1;33m\u001b[0m\u001b[0m\n\u001b[1;32m----> 4\u001b[1;33m \u001b[1;32mimport\u001b[0m \u001b[0mtensorflow\u001b[0m \u001b[1;32mas\u001b[0m \u001b[0mtf\u001b[0m\u001b[1;33m\u001b[0m\u001b[1;33m\u001b[0m\u001b[0m\n\u001b[0m\u001b[0;32m      5\u001b[0m \u001b[1;32mfrom\u001b[0m \u001b[0mtensorflow\u001b[0m\u001b[1;33m.\u001b[0m\u001b[0mexamples\u001b[0m\u001b[1;33m.\u001b[0m\u001b[0mtutorials\u001b[0m\u001b[1;33m.\u001b[0m\u001b[0mmnist\u001b[0m \u001b[1;32mimport\u001b[0m \u001b[0minput_data\u001b[0m\u001b[1;33m\u001b[0m\u001b[1;33m\u001b[0m\u001b[0m\n\u001b[0;32m      6\u001b[0m \u001b[1;33m\u001b[0m\u001b[0m\n",
      "\u001b[1;31mModuleNotFoundError\u001b[0m: No module named 'tensorflow'"
     ]
    }
   ],
   "source": [
    "#Julian Felipe Gutiérrez\n",
    "#Juan David Marin\n",
    "\n",
    "import tensorflow as tf\n",
    "from tensorflow.examples.tutorials.mnist import input_data\n",
    "\n",
    "# Read data\n",
    "mnist = input_data.read_data_sets(\"MNIST_data/\", one_hot=True)"
   ]
  },
  {
   "cell_type": "code",
   "execution_count": null,
   "metadata": {},
   "outputs": [],
   "source": [
    "# It defines the regression model\n",
    "def inference(x):\n",
    "    weight_init = tf.random_normal_initializer()\n",
    "    bias_init = tf.constant_initializer(value=0)\n",
    "    W = tf.get_variable(\"W\", [784, 10], initializer=weight_init)\n",
    "    b = tf.get_variable(\"b\", [10], initializer=bias_init)\n",
    "    output = tf.nn.softmax(tf.matmul(x, W) + b)\n",
    "    return output"
   ]
  },
  {
   "cell_type": "code",
   "execution_count": null,
   "metadata": {},
   "outputs": [],
   "source": [
    "# It defines the function of loss associated to the model\n",
    "def loss(output, y):\n",
    "    dot_product = y * tf.log(output)    \n",
    "    xentropy = -tf.reduce_sum(dot_product, reduction_indices=1)\n",
    "    loss = tf.reduce_mean(xentropy)\n",
    "    return loss"
   ]
  },
  {
   "cell_type": "code",
   "execution_count": null,
   "metadata": {},
   "outputs": [],
   "source": [
    "# It defines the accuracy of the predictions to make from the model\n",
    "def evaluate(output, y):\n",
    "    correct_prediction = tf.equal(tf.argmax(output, 1), tf.argmax(y, 1))\n",
    "    accuracy = tf.reduce_mean(tf.cast(correct_prediction, tf.float32))\n",
    "    return accuracy"
   ]
  },
  {
   "cell_type": "code",
   "execution_count": null,
   "metadata": {},
   "outputs": [],
   "source": [
    "# It trains the model\n",
    "def training(cost, global_step):\n",
    "    tf.summary.scalar(\"cost\", cost)\n",
    "    optimizer = tf.train.GradientDescentOptimizer(learning_rate)\n",
    "    train_op = optimizer.minimize(cost, global_step=global_step)\n",
    "    return train_op"
   ]
  },
  {
   "cell_type": "code",
   "execution_count": null,
   "metadata": {},
   "outputs": [],
   "source": [
    "# Setting of parameters\n",
    "\n",
    "learning_rate = 0.01\n",
    "training_epochs = 30\n",
    "batch_size = 100\n",
    "display_step = 1\n",
    "\n",
    "with tf.Graph().as_default():\n",
    "    # mnist data image of shape 28*28=784\n",
    "    x = tf.placeholder(tf.float32, [None, 784])\n",
    "    # mnist data image of shape 16*16=256\n",
    "    x = tf.placeholder(tf.float32, [784, 256])\n",
    "    # mnist data image of shape 16*16=256\n",
    "    x = tf.placeholder(tf.float32, [256, 256])\n",
    "    # 0-9 digits recognition => 10 classes\n",
    "    y = tf.placeholder(tf.float32, [None, 10])    \n",
    "    output = inference(x)    \n",
    "    cost = loss(output, y) \n",
    "    \n",
    "    global_step = tf.Variable(0, name='global_step', trainable=False)    \n",
    "    train_op = training(cost, global_step)    \n",
    "    eval_op = evaluate(output, y)\n",
    "    \n",
    "    summary_op = tf.summary.merge_all()    \n",
    "    saver = tf.train.Saver()\n",
    "    \n",
    "    sess = tf.Session()    \n",
    "    #summary_writer = tf.summary.FileWriter(\"logistic_logs/\", graph=sess.graph)\n",
    "    \n",
    "    init_op = tf.global_variables_initializer()    \n",
    "    sess.run(init_op)\n",
    "    \n",
    "    # Training cycle\n",
    "    for epoch in range(training_epochs):\n",
    "        avg_cost = 0.\n",
    "        total_batch = int(mnist.train.num_examples/batch_size)\n",
    "        # Loop over all batches\n",
    "        for i in range(total_batch):\n",
    "            mbatch_x, mbatch_y = mnist.train.next_batch(batch_size)\n",
    "            # Fit training using batch data\n",
    "            feed_dict = {x : mbatch_x, y : mbatch_y}\n",
    "            sess.run(train_op, feed_dict=feed_dict)\n",
    "            # Compute average loss\n",
    "            minibatch_cost = sess.run(cost, feed_dict=feed_dict)\n",
    "            avg_cost += minibatch_cost/total_batch\n",
    "            \n",
    "        # Display logs per epoch step\n",
    "        if epoch % display_step == 0:\n",
    "            val_feed_dict = {\n",
    "                x : mnist.validation.images,\n",
    "                y : mnist.validation.labels\n",
    "            }\n",
    "            accuracy = sess.run(eval_op, feed_dict=val_feed_dict)\n",
    "            print (\"Validation Error:\", (1 - accuracy))\n",
    "            summary_str = sess.run(summary_op, feed_dict=feed_dict)\n",
    "            #summary_writer.add_summary(summary_str, sess.run(global_step))\n",
    "            \n",
    "            saver.save(sess, \"logistic_logs2/model-checkpoint\", global_step=global_step)\n",
    "            \n",
    "    print(\"Optimization Finished!\")\n",
    "    \n",
    "    test_feed_dict = {\n",
    "        x : mnist.test.images,\n",
    "        y : mnist.test.labels\n",
    "    }\n",
    "    accuracy = sess.run(eval_op, feed_dict=test_feed_dict)\n",
    "    writer = tf.summary.FileWriter(\"logistic_logs2/\", graph=sess.as_default)\n",
    "    writer.add_graph(tf.get_default_graph())\n",
    "    print(\"Test Accuracy:\", accuracy)"
   ]
  }
 ],
 "metadata": {
  "kernelspec": {
   "display_name": "Python 3",
   "language": "python",
   "name": "python3"
  },
  "language_info": {
   "codemirror_mode": {
    "name": "ipython",
    "version": 3
   },
   "file_extension": ".py",
   "mimetype": "text/x-python",
   "name": "python",
   "nbconvert_exporter": "python",
   "pygments_lexer": "ipython3",
   "version": "3.7.1"
  }
 },
 "nbformat": 4,
 "nbformat_minor": 2
}
