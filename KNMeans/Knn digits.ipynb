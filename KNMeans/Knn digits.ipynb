{
 "cells": [
  {
   "cell_type": "code",
   "execution_count": 1,
   "metadata": {},
   "outputs": [
    {
     "name": "stdout",
     "output_type": "stream",
     "text": [
      "1797\n",
      "1797\n",
      "Reales   : [2 8 9 7 2 1 4 9 3 2 6 2 5 9 6 5 8 2 0 7 8 0 5 8 4]\n",
      "Estimados: [2 8 9 7 2 1 4 9 3 2 6 2 5 9 6 5 8 2 0 7 8 0 6 8 4]\n",
      "Precisión para el training set: 0.99\n",
      "Reales   : [2 8 2 6 6 7 1 9 8 5 2 8 6 6 6 6 1 0 5 8 8 7 8 4 7]\n",
      "Estimados: [2 8 2 6 6 7 1 9 8 5 2 8 6 6 6 6 1 0 5 8 8 7 8 4 7]\n",
      "Precisión para el test set: 0.98\n"
     ]
    }
   ],
   "source": [
    "from sklearn.naive_bayes import GaussianNB\n",
    "from sklearn.datasets import load_digits\n",
    "from sklearn.model_selection import train_test_split\n",
    "from sklearn.preprocessing import MinMaxScaler\n",
    "from sklearn.neighbors import KNeighborsClassifier\n",
    "import sklearn.metrics as metrics\n",
    "import pylab as plt\n",
    "\n",
    "digits=load_digits()\n",
    "numImagenes=len(digits.images)\n",
    "y=digits.target\n",
    "print(len(y))\n",
    "X=digits.images.reshape((numImagenes,-1))\n",
    "print(len(X))\n",
    "X_train, X_test, y_train, y_test= train_test_split(X,y, random_state=0)\n",
    "scaler= MinMaxScaler()\n",
    "X_train= scaler.fit_transform(X_train)\n",
    "X_test= scaler.transform(X_test)\n",
    "\n",
    "knn = KNeighborsClassifier(7) #con 7 vecinos\n",
    "fit=knn.fit(X_train, y_train)\n",
    "\n",
    "y_estimado_train = fit.predict(X_train)\n",
    "print(\"Reales   :\", y_train[0:25])\n",
    "print(\"Estimados:\", y_estimado_train[0:25])\n",
    "\n",
    "\n",
    "print('Precisión para el training set: {:.2f}'\n",
    "     .format(knn.score(X_train, y_train)))\n",
    "\n",
    "y_estimado_test= fit.predict(X_test)\n",
    "print(\"Reales   :\", y_test[0:25])\n",
    "print(\"Estimados:\", y_estimado_test[0:25])\n",
    "\n",
    "print('Precisión para el test set: {:.2f}'\n",
    "     .format(knn.score(X_test, y_test)))"
   ]
  },
  {
   "cell_type": "code",
   "execution_count": null,
   "metadata": {},
   "outputs": [],
   "source": []
  }
 ],
 "metadata": {
  "kernelspec": {
   "display_name": "Python 3",
   "language": "python",
   "name": "python3"
  },
  "language_info": {
   "codemirror_mode": {
    "name": "ipython",
    "version": 3
   },
   "file_extension": ".py",
   "mimetype": "text/x-python",
   "name": "python",
   "nbconvert_exporter": "python",
   "pygments_lexer": "ipython3",
   "version": "3.6.5"
  }
 },
 "nbformat": 4,
 "nbformat_minor": 2
}
